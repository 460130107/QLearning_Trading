{
 "cells": [
  {
   "cell_type": "markdown",
   "metadata": {},
   "source": [
    "## Building The Environment\n",
    "<sub>Uirá Caiado. Aug 19, 2016<sub>\n",
    "\n",
    "### My Goal, For Now"
   ]
  },
  {
   "cell_type": "markdown",
   "metadata": {},
   "source": [
    "Here I will build the environment where my agent will be trained. As it is a pretty complicated task, I created this notebook just to explore some options. Test an automated strategy is something pretty difficult, to tell the truth. There are some issues that I could talk about: historical prices are just one path from a stochastic process, the presence of the strategy on the market could change it etc.\n",
    "\n",
    "However, would be interesting if the solution explored in my capstone could capture some aspect of the real structure of the markets. So, I will build an environment that will use historical data, but I will build it in a \"agent-based model\" fashion. Probably I will not do that to this project, but this structure can be useful for some future projects that I intend to do after completing this one.\n",
    "\n",
    "I will use TAQ data from Bloomberg; It consists of 'level I' data from the PETR4 Brazilian Stock. I will explain about all these terms and data in my \"official\" project; here I just intend to share my experiments in a less formal way. Level I data is the information of the first queue of order book (bid and ask), and trades that have been made (TAQ is an acronym for Trade and Quote). It alone is not enough to create an order book, but I will try to do that. If I complete this task, I could exclude the historical data and include some random agents to build a Monte Carlo of the order book, for example. I will try to build it upon the codes for the SmartCab project. Instead of the gridlike world, my world will be discrete, but an order book."
   ]
  },
  {
   "cell_type": "markdown",
   "metadata": {},
   "source": [
    "### Exploring The Data\n",
    "\n",
    "So, let's start looking at the data that I have available. It is data from the last 19 days from PETR4 stock from Brazilian BMFBovespa. I choose this share because it is on of the most active stocks in our market, but still the data produced is manageable (60 to 90 thousands of rows by day)."
   ]
  },
  {
   "cell_type": "code",
   "execution_count": 42,
   "metadata": {
    "collapsed": false
   },
   "outputs": [
    {
     "name": "stdout",
     "output_type": "stream",
     "text": [
      "20160725.csv:\t117,170 rows\t4.66 MB\n",
      "20160726.csv:\t105,898 rows\t4.20 MB\n",
      "20160727.csv:\t131,058 rows\t5.22 MB\n",
      "20160728.csv:\t117,286 rows\t4.65 MB\n",
      "20160729.csv:\t145,368 rows\t5.79 MB\n",
      "20160801.csv:\t114,815 rows\t4.57 MB\n",
      "20160802.csv:\t113,642 rows\t4.51 MB\n",
      "20160803.csv:\t142,283 rows\t5.69 MB\n",
      "20160804.csv:\t144,832 rows\t5.78 MB\n",
      "20160805.csv:\t117,901 rows\t4.70 MB\n",
      "20160808.csv:\t93,502 rows\t3.70 MB\n",
      "20160809.csv:\t86,078 rows\t3.41 MB\n",
      "20160810.csv:\t112,320 rows\t4.46 MB\n",
      "20160811.csv:\t153,925 rows\t6.16 MB\n",
      "20160812.csv:\t154,212 rows\t6.17 MB\n",
      "20160815.csv:\t114,955 rows\t4.57 MB\n",
      "20160816.csv:\t111,913 rows\t4.45 MB\n",
      "20160817.csv:\t122,047 rows\t4.86 MB\n",
      "20160818.csv:\t90,024 rows\t3.56 MB\n",
      "==========================================\n",
      "TOTAL\t\t19 files\t91.09 MB\n",
      "CPU times: user 6.93 s, sys: 19.2 ms, total: 6.94 s\n",
      "Wall time: 6.95 s\n"
     ]
    }
   ],
   "source": [
    "import zipfile\n",
    "def foo():\n",
    "    s_fname = \"data/petr4_0725_0818.zip\"\n",
    "    archive = zipfile.ZipFile(s_fname, 'r')\n",
    "    f_total = 0.\n",
    "    for i, x in enumerate(archive.infolist()):\n",
    "        f_total += x.file_size/ 1024.**2\n",
    "        for num_rows, row in enumerate(archive.open(x)):\n",
    "            pass\n",
    "        print \"{}:\\t{:,.0f} rows\\t{:0.2f} MB\".format(x.filename, num_rows + 1, x.file_size/ 1024.**2)\n",
    "    print '=' * 42\n",
    "    print \"TOTAL\\t\\t{} files\\t{:0.2f} MB\".format(i+1,f_total)\n",
    "\n",
    "%time foo()"
   ]
  },
  {
   "cell_type": "markdown",
   "metadata": {},
   "source": [
    "Ok, all files together have 91 MB. It is not too much actually. Maybe I could try to get more data. Well, let's read one of them."
   ]
  },
  {
   "cell_type": "code",
   "execution_count": 63,
   "metadata": {
    "collapsed": false
   },
   "outputs": [
    {
     "data": {
      "text/html": [
       "<div>\n",
       "<table border=\"1\" class=\"dataframe\">\n",
       "  <thead>\n",
       "    <tr style=\"text-align: right;\">\n",
       "      <th></th>\n",
       "      <th>Date</th>\n",
       "      <th>Type</th>\n",
       "      <th>Price</th>\n",
       "      <th>Size</th>\n",
       "    </tr>\n",
       "  </thead>\n",
       "  <tbody>\n",
       "    <tr>\n",
       "      <th>0</th>\n",
       "      <td>2016-08-18 10:09:09</td>\n",
       "      <td>TRADE</td>\n",
       "      <td>12.80</td>\n",
       "      <td>1000</td>\n",
       "    </tr>\n",
       "    <tr>\n",
       "      <th>1</th>\n",
       "      <td>2016-08-18 10:09:09</td>\n",
       "      <td>BID</td>\n",
       "      <td>12.80</td>\n",
       "      <td>15900</td>\n",
       "    </tr>\n",
       "    <tr>\n",
       "      <th>2</th>\n",
       "      <td>2016-08-18 10:09:09</td>\n",
       "      <td>ASK</td>\n",
       "      <td>12.81</td>\n",
       "      <td>2900</td>\n",
       "    </tr>\n",
       "    <tr>\n",
       "      <th>3</th>\n",
       "      <td>2016-08-18 10:09:09</td>\n",
       "      <td>ASK</td>\n",
       "      <td>12.81</td>\n",
       "      <td>7900</td>\n",
       "    </tr>\n",
       "    <tr>\n",
       "      <th>4</th>\n",
       "      <td>2016-08-18 10:09:09</td>\n",
       "      <td>BID</td>\n",
       "      <td>12.80</td>\n",
       "      <td>20900</td>\n",
       "    </tr>\n",
       "  </tbody>\n",
       "</table>\n",
       "</div>"
      ],
      "text/plain": [
       "                 Date   Type  Price   Size\n",
       "0 2016-08-18 10:09:09  TRADE  12.80   1000\n",
       "1 2016-08-18 10:09:09    BID  12.80  15900\n",
       "2 2016-08-18 10:09:09    ASK  12.81   2900\n",
       "3 2016-08-18 10:09:09    ASK  12.81   7900\n",
       "4 2016-08-18 10:09:09    BID  12.80  20900"
      ]
     },
     "execution_count": 63,
     "metadata": {},
     "output_type": "execute_result"
    }
   ],
   "source": [
    "import pandas as pd\n",
    "df = pd.read_csv(archive.open(x), index_col=0, parse_dates=['Date'])\n",
    "df.head()"
   ]
  },
  {
   "cell_type": "code",
   "execution_count": 64,
   "metadata": {
    "collapsed": false
   },
   "outputs": [
    {
     "name": "stdout",
     "output_type": "stream",
     "text": [
      "08/18/2016\n",
      "Type\n",
      "ASK      32843\n",
      "BID      32116\n",
      "TRADE    25064\n",
      "Name: Date, dtype: int64\n"
     ]
    }
   ],
   "source": [
    "print \"{:%m/%d/%Y}\".format(df.Date[0])\n",
    "print df.groupby('Type').count()['Date']"
   ]
  },
  {
   "cell_type": "markdown",
   "metadata": {},
   "source": [
    "As it is a \"Trade And quotes\" file, I was already expecting that there was the same number os Bid and Ask rows in the file. Well... it wasn't a problem to read this file. Well, I will read this file row by row now and include the prices in a binomial tree. Let's see how long it takes."
   ]
  },
  {
   "cell_type": "code",
   "execution_count": 65,
   "metadata": {
    "collapsed": true
   },
   "outputs": [],
   "source": [
    "from bintrees import FastRBTree"
   ]
  },
  {
   "cell_type": "code",
   "execution_count": 77,
   "metadata": {
    "collapsed": false
   },
   "outputs": [
    {
     "name": "stdout",
     "output_type": "stream",
     "text": [
      "time to iterate the rows:\n",
      "CPU times: user 9.15 s, sys: 114 ms, total: 9.27 s\n",
      "Wall time: 9.22 s\n"
     ]
    }
   ],
   "source": [
    "def foo():\n",
    "    for idx, row in df.iterrows():\n",
    "        pass\n",
    "\n",
    "print \"time to iterate the rows:\"\n",
    "%time foo()"
   ]
  },
  {
   "cell_type": "code",
   "execution_count": 78,
   "metadata": {
    "collapsed": false
   },
   "outputs": [
    {
     "name": "stdout",
     "output_type": "stream",
     "text": [
      "time to insert everything in binary trees:\n",
      "CPU times: user 15.6 s, sys: 317 ms, total: 15.9 s\n",
      "Wall time: 15.8 s\n"
     ]
    }
   ],
   "source": [
    "def foo():\n",
    "    bid_tree = FastRBTree()\n",
    "    ask_tree = FastRBTree()\n",
    "    for idx, row in df.iterrows():\n",
    "        if row.Type == 'BID':\n",
    "            bid_tree.insert(row['Price'], row['Size'])\n",
    "        elif row.Type == 'ASK':\n",
    "            ask_tree.insert(row['Price'], row['Size'])\n",
    "\n",
    "print \"time to insert everything in binary trees:\"\n",
    "%time foo()"
   ]
  },
  {
   "cell_type": "markdown",
   "metadata": {},
   "source": [
    "It is not excelent, but it is ok for now. I will see how bad it will be when I include all the logic needed. Now, let's visualize the prices on that day"
   ]
  },
  {
   "cell_type": "code",
   "execution_count": 85,
   "metadata": {
    "collapsed": false
   },
   "outputs": [
    {
     "data": {
      "image/png": "[encoded data removed]",
      "text/plain": [
       "<matplotlib.figure.Figure at 0x11ae00890>"
      ]
     },
     "metadata": {},
     "output_type": "display_data"
    }
   ],
   "source": [
    "df_aux = df[df.Type == 'TRADE'].Price\n",
    "df_aux.index = df[df.Type == 'TRADE'].Date\n",
    "ax = df_aux.plot()\n",
    "ax.set_title(\"Price fluctuation of PETR4\\n\");"
   ]
  },
  {
   "cell_type": "markdown",
   "metadata": {},
   "source": [
    "Know what, let's visualize the prices of all days"
   ]
  },
  {
   "cell_type": "code",
   "execution_count": null,
   "metadata": {
    "collapsed": false
   },
   "outputs": [],
   "source": [
    "df_all = None\n",
    "\n",
    "for i, x in enumerate(archive.infolist()):\n",
    "    df = pd.read_csv(archive.open(x), index_col=0, parse_dates=['Date'])\n",
    "    ts_date = df.Date[0].date()\n",
    "    df.Date = [\"{:%H:%M:%S}\".format(x) for x in df.Date]\n",
    "    df = df[df.Type == \"TRADE\"]\n",
    "    if i == 0:\n",
    "        df_all = pd.DataFrame(df.Price)\n",
    "        df_all.columns = [ts_date] \n",
    "        df_all.index = df.Date\n",
    "    else:\n",
    "        df_aux = pd.DataFrame(df.Price)\n",
    "        df_aux.columns = [ts_date]\n",
    "        df_aux.index = df.Date\n",
    "        df_all = df_all.join(df_aux)"
   ]
  },
  {
   "cell_type": "code",
   "execution_count": null,
   "metadata": {
    "collapsed": false
   },
   "outputs": [],
   "source": []
  },
  {
   "cell_type": "code",
   "execution_count": null,
   "metadata": {
    "collapsed": false
   },
   "outputs": [],
   "source": [
    "df_all.head()"
   ]
  },
  {
   "cell_type": "code",
   "execution_count": null,
   "metadata": {
    "collapsed": true
   },
   "outputs": [],
   "source": []
  },
  {
   "cell_type": "code",
   "execution_count": null,
   "metadata": {
    "collapsed": true
   },
   "outputs": [],
   "source": []
  },
  {
   "cell_type": "code",
   "execution_count": null,
   "metadata": {
    "collapsed": true
   },
   "outputs": [],
   "source": []
  },
  {
   "cell_type": "code",
   "execution_count": null,
   "metadata": {
    "collapsed": true
   },
   "outputs": [],
   "source": []
  },
  {
   "cell_type": "markdown",
   "metadata": {},
   "source": [
    "*Style notebook and change matplotlib defaults*"
   ]
  },
  {
   "cell_type": "code",
   "execution_count": 1,
   "metadata": {
    "collapsed": false
   },
   "outputs": [
    {
     "data": {
      "text/html": [
       "<style>\n",
       "    @font-face {\n",
       "        font-family: \"Computer Modern\";\n",
       "        src: url('http://9dbb143991406a7c655e-aa5fcb0a5a4ec34cff238a2d56ca4144.r56.cf5.rackcdn.com/cmunss.otf');\n",
       "    }\n",
       "    @font-face {\n",
       "        font-family: \"Computer Modern\";\n",
       "        font-weight: bold;\n",
       "        src: url('http://9dbb143991406a7c655e-aa5fcb0a5a4ec34cff238a2d56ca4144.r56.cf5.rackcdn.com/cmunsx.otf');\n",
       "    }\n",
       "    @font-face {\n",
       "        font-family: \"Computer Modern\";\n",
       "        font-style: oblique;\n",
       "        src: url('http://9dbb143991406a7c655e-aa5fcb0a5a4ec34cff238a2d56ca4144.r56.cf5.rackcdn.com/cmunsi.otf');\n",
       "    }\n",
       "    @font-face {\n",
       "        font-family: \"Computer Modern\";\n",
       "        font-weight: bold;\n",
       "        font-style: oblique;\n",
       "        src: url('http://9dbb143991406a7c655e-aa5fcb0a5a4ec34cff238a2d56ca4144.r56.cf5.rackcdn.com/cmunso.otf');\n",
       "    }\n",
       "    div.cell{\n",
       "        width:800px;\n",
       "        margin-left:16% !important;\n",
       "        margin-right:auto;\n",
       "    }\n",
       "    h1 {\n",
       "        font-family: Helvetica, serif;\n",
       "    }\n",
       "    h4{\n",
       "        margin-top:12px;\n",
       "        margin-bottom: 3px;\n",
       "       }\n",
       "    div.text_cell_render{\n",
       "        font-family: Computer Modern, \"Helvetica Neue\", Arial, Helvetica, Geneva, sans-serif;\n",
       "        line-height: 145%;\n",
       "        font-size: 130%;\n",
       "        width:800px;\n",
       "        margin-left:auto;\n",
       "        margin-right:auto;\n",
       "    }\n",
       "    .CodeMirror{\n",
       "            font-family: \"Source Code Pro\", source-code-pro,Consolas, monospace;\n",
       "    }\n",
       "    .prompt{\n",
       "        display: None;\n",
       "    }\n",
       "    .text_cell_render h5 {\n",
       "        font-weight: 300;\n",
       "        font-size: 22pt;\n",
       "        color: #4057A1;\n",
       "        font-style: italic;\n",
       "        margin-bottom: .5em;\n",
       "        margin-top: 0.5em;\n",
       "        display: block;\n",
       "    }\n",
       "\n",
       "    .warning{\n",
       "        color: rgb( 240, 20, 20 )\n",
       "        }\n",
       "</style>\n",
       "\n",
       "\n",
       "\n",
       "<style>\n",
       "    table {\n",
       "        overflow:hidden;\n",
       "        font-family: Computer Modern, \"Helvetica Neue\", Arial, Helvetica, Geneva, sans-serif;\n",
       "        font-size: 12px;\n",
       "        margin: 10px;\n",
       "        width: 480px;\n",
       "        text-align: left;\n",
       "        border-collapse: collapse;\n",
       "        border: 1px solid #d3d3d3;\n",
       "        -moz-border-radius:5px; FF1+;\n",
       "        -webkit-border-radius:5px; Saf3-4;\n",
       "        border-radius:5px;\n",
       "        -moz-box-shadow: 0 0 4px rgba(0, 0, 0, 0.01);\n",
       "    }\n",
       "    th\n",
       "    {\n",
       "        padding: 12px 17px 12px 17px;\n",
       "        font-weight: normal;\n",
       "        font-size: 14px;\n",
       "        border-bottom: 1px dashed #69c;\n",
       "    }\n",
       "\n",
       "    td\n",
       "    {\n",
       "        padding: 7px 17px 7px 17px;\n",
       "\n",
       "    }\n",
       "\n",
       "    tbody tr:hover th\n",
       "    {\n",
       "\n",
       "        background:  #E9E9E9;\n",
       "    }\n",
       "\n",
       "    tbody tr:hover td\n",
       "    {\n",
       "\n",
       "        background:  #E9E9E9;\n",
       "    }\n",
       "\n",
       "</style>\n",
       "\n",
       "<script>\n",
       "    MathJax.Hub.Config({\n",
       "                        TeX: {\n",
       "                           extensions: [\"AMSmath.js\"]\n",
       "                           },\n",
       "                tex2jax: {\n",
       "                    inlineMath: [ ['$','$'], [\"\\\\(\",\"\\\\)\"] ],\n",
       "                    displayMath: [ ['$$','$$'], [\"\\\\[\",\"\\\\]\"] ]\n",
       "                },\n",
       "                displayAlign: 'center', // Change this to 'center' to center equations.\n",
       "                \"HTML-CSS\": {\n",
       "                    styles: {'.MathJax_Display': {\"margin\": 4}}\n",
       "                }\n",
       "        });\n",
       "</script>\n"
      ],
      "text/plain": [
       "<IPython.core.display.HTML object>"
      ]
     },
     "execution_count": 1,
     "metadata": {},
     "output_type": "execute_result"
    }
   ],
   "source": [
    "#loading style sheet\n",
    "from IPython.core.display import HTML\n",
    "HTML( open('ipython_style.css').read())"
   ]
  },
  {
   "cell_type": "code",
   "execution_count": 2,
   "metadata": {
    "collapsed": true
   },
   "outputs": [],
   "source": [
    "#changing matplotlib defaults\n",
    "%matplotlib inline\n",
    "import seaborn as sns\n",
    "sns.set_palette(\"deep\", desat=.6)\n",
    "sns.set_context(rc={\"figure.figsize\": (8, 4)})\n",
    "sns.set_style(\"whitegrid\")\n",
    "sns.set_palette(sns.color_palette(\"Set2\", 10))"
   ]
  },
  {
   "cell_type": "code",
   "execution_count": null,
   "metadata": {
    "collapsed": true
   },
   "outputs": [],
   "source": []
  }
 ],
 "metadata": {
  "kernelspec": {
   "display_name": "Python 2",
   "language": "python",
   "name": "python2"
  },
  "language_info": {
   "codemirror_mode": {
    "name": "ipython",
    "version": 2
   },
   "file_extension": ".py",
   "mimetype": "text/x-python",
   "name": "python",
   "nbconvert_exporter": "python",
   "pygments_lexer": "ipython2",
   "version": "2.7.12"
  }
 },
 "nbformat": 4,
 "nbformat_minor": 0
}
